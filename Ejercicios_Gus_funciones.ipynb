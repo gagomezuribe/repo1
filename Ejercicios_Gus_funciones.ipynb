{
  "nbformat": 4,
  "nbformat_minor": 0,
  "metadata": {
    "colab": {
      "provenance": [],
      "authorship_tag": "ABX9TyOVXG8+dF75tx4GryXsLAHe",
      "include_colab_link": true
    },
    "kernelspec": {
      "name": "python3",
      "display_name": "Python 3"
    },
    "language_info": {
      "name": "python"
    }
  },
  "cells": [
    {
      "cell_type": "markdown",
      "metadata": {
        "id": "view-in-github",
        "colab_type": "text"
      },
      "source": [
        "<a href=\"https://colab.research.google.com/github/gagomezuribe/repo1/blob/main/Ejercicios_Gus_funciones.ipynb\" target=\"_parent\"><img src=\"https://colab.research.google.com/assets/colab-badge.svg\" alt=\"Open In Colab\"/></a>"
      ]
    },
    {
      "cell_type": "markdown",
      "source": [
        "1. Escribe una función que reciba como entrada una lista con números y devuelva como resultado una lista con los cuadrados de los números contenidos en la lista de entrada."
      ],
      "metadata": {
        "id": "K1R22iXINCk9"
      }
    },
    {
      "cell_type": "code",
      "execution_count": null,
      "metadata": {
        "colab": {
          "base_uri": "https://localhost:8080/"
        },
        "id": "nRpJvm1AM-p7",
        "outputId": "039d1a6a-7532-403a-f315-bfb57d039b4b"
      },
      "outputs": [
        {
          "output_type": "stream",
          "name": "stdout",
          "text": [
            "[1, 4, 9, 16]\n"
          ]
        }
      ],
      "source": [
        "def cuadrados(lista):\n",
        "  return [x**2 for x in lista]\n",
        "\n",
        "print(cuadrados([1,2,3,4]))"
      ]
    },
    {
      "cell_type": "markdown",
      "source": [
        "2. Escribe una función que reciba números como entrada y devuelva la suma de los mismos. La función debe ser capaz de recibir una cantidad indeterminada de números. La función no debe recibir directamente ningún objeto complejo (lista, conjunto, etc.)."
      ],
      "metadata": {
        "id": "SkYG2-OUUMJ7"
      }
    },
    {
      "cell_type": "code",
      "source": [
        "def suma(*sumandos):\n",
        "  output = 0.\n",
        "  for i in range (0,len(sumandos)):\n",
        "    output += sumandos[i]\n",
        "  return output\n",
        "\n",
        "print(suma(1,2,3,4))"
      ],
      "metadata": {
        "colab": {
          "base_uri": "https://localhost:8080/"
        },
        "id": "lomIMqzAUQLV",
        "outputId": "f16bc531-f3a2-4ef4-98c0-f03f0ebf6619"
      },
      "execution_count": null,
      "outputs": [
        {
          "output_type": "stream",
          "name": "stdout",
          "text": [
            "10.0\n"
          ]
        }
      ]
    },
    {
      "cell_type": "markdown",
      "source": [
        "3. Escribe una función que reciba un string como entrada y devuelva el string al revés. Ejemplo: si el string de entrada es 'hola', el resultado será 'aloh'."
      ],
      "metadata": {
        "id": "1mWv-6zgXt0b"
      }
    },
    {
      "cell_type": "code",
      "source": [
        "def alreves(s):\n",
        "  return s[-1::-1]\n",
        "\n",
        "print(alreves(\"Hola\"))\n"
      ],
      "metadata": {
        "colab": {
          "base_uri": "https://localhost:8080/"
        },
        "id": "VS6fvWugcU-f",
        "outputId": "600c234d-93b2-4cbb-b8fb-92af290949ae"
      },
      "execution_count": null,
      "outputs": [
        {
          "output_type": "stream",
          "name": "stdout",
          "text": [
            "aloH\n"
          ]
        }
      ]
    },
    {
      "cell_type": "markdown",
      "source": [
        "4. Escribe una función lambda que, al igual que la función desarrollada en el ejercicio anterior, invierta el string recibido como parámetro. Ejemplo: si el string de entrada es 'hola', el resultado será 'aloh'."
      ],
      "metadata": {
        "id": "1tzVQmqGeT_S"
      }
    },
    {
      "cell_type": "code",
      "source": [
        "invertir = lambda s : s[-1::-1]\n",
        "print(invertir(\"Hola\"))"
      ],
      "metadata": {
        "colab": {
          "base_uri": "https://localhost:8080/"
        },
        "id": "kZD0LkxMeSnS",
        "outputId": "8b30e212-e975-4425-e5fd-a715d3bb589b"
      },
      "execution_count": null,
      "outputs": [
        {
          "output_type": "stream",
          "name": "stdout",
          "text": [
            "aloH\n"
          ]
        }
      ]
    },
    {
      "cell_type": "markdown",
      "source": [
        "5. Escribe una función que compruebe si un número se encuentra dentro de un rango específico."
      ],
      "metadata": {
        "id": "Egkk9l2HfUI5"
      }
    },
    {
      "cell_type": "code",
      "source": [
        "def enrango(num, min, max):\n",
        "  return (num>=min and num<=max)\n",
        "\n",
        "print(enrango(3,4,5))"
      ],
      "metadata": {
        "colab": {
          "base_uri": "https://localhost:8080/"
        },
        "id": "lv6WzvBmfgRR",
        "outputId": "512c75b0-8542-4f23-c4d0-0a8399d96c3e"
      },
      "execution_count": null,
      "outputs": [
        {
          "output_type": "stream",
          "name": "stdout",
          "text": [
            "False\n"
          ]
        }
      ]
    },
    {
      "cell_type": "markdown",
      "source": [
        "6.Escribe una función que reciba un número entero positivo como parámetro y devuelva una lista que contenga los 5 primeros múltiplos de dicho número. Por ejemplo, si la función recibe el número 3, devolverá la lista [3, 6, 9, 12, 15]. Si la función recibe un parámetro incorrecto (por ejemplo, un múmero menor o igual a cero), mostrará un mensaje de error por pantalla y devolverá una lista vacía."
      ],
      "metadata": {
        "id": "2bzvG-arf_PR"
      }
    },
    {
      "cell_type": "code",
      "source": [
        "def multiplos(x):\n",
        "  lista = []\n",
        "  if x<=0:\n",
        "    print('No se ha ingresado un número positivo')\n",
        "    return lista\n",
        "  for i in range(1,6):\n",
        "    lista.append(i*x)\n",
        "  return lista\n",
        "\n",
        "print(multiplos(0))"
      ],
      "metadata": {
        "colab": {
          "base_uri": "https://localhost:8080/"
        },
        "id": "08o_IzVmgEE1",
        "outputId": "67cd92b3-0890-41a0-acf2-6c9c932f883d"
      },
      "execution_count": null,
      "outputs": [
        {
          "output_type": "stream",
          "name": "stdout",
          "text": [
            "No se ha ingresado un número positivo\n",
            "[]\n"
          ]
        }
      ]
    },
    {
      "cell_type": "markdown",
      "source": [
        "7. Escribe una función que reciba una lista como parámetro y compruebe si la lista tiene duplicados. La función devolverá True si la lista tiene duplicados y False si no los tiene."
      ],
      "metadata": {
        "id": "jILBKsI8hSoq"
      }
    },
    {
      "cell_type": "code",
      "source": [
        "def con_duplicados(lista):\n",
        "  items=len(lista)\n",
        "  print(items)\n",
        "  conjunto=set(lista)\n",
        "  print(len(conjunto))\n",
        "  return len(conjunto) != items\n",
        "\n",
        "print(con_duplicados([1,3,4,2]))"
      ],
      "metadata": {
        "colab": {
          "base_uri": "https://localhost:8080/"
        },
        "id": "xr_QNI-fhX_z",
        "outputId": "61afeaef-d091-49ea-a09e-85827c1b47c2"
      },
      "execution_count": null,
      "outputs": [
        {
          "output_type": "stream",
          "name": "stdout",
          "text": [
            "4\n",
            "4\n",
            "False\n"
          ]
        }
      ]
    },
    {
      "cell_type": "markdown",
      "source": [
        "8. Escribe una función lambda que, al igual que la función desarrollada en el ejercicio anterior, reciba una lista como parámetro y compruebe si la lista tiene duplicados. La función devolverá True si la lista tiene duplicados y False si no los tiene."
      ],
      "metadata": {
        "id": "RxRxEtVYi-98"
      }
    },
    {
      "cell_type": "code",
      "source": [
        "tiene_dupl = lambda lista : len(lista) != len(set(lista))\n",
        "\n",
        "print(tiene_dupl([1,2,3]))\n",
        "print(tiene_dupl([1,2,3,3]))"
      ],
      "metadata": {
        "colab": {
          "base_uri": "https://localhost:8080/"
        },
        "id": "kHAOcgb7jEIy",
        "outputId": "cb86250b-8124-44b2-ec91-fdd21175087f"
      },
      "execution_count": null,
      "outputs": [
        {
          "output_type": "stream",
          "name": "stdout",
          "text": [
            "False\n",
            "True\n"
          ]
        }
      ]
    },
    {
      "cell_type": "markdown",
      "source": [
        "9. Escribe una función que compruebe si un string dado es un palíndromo. Un palíndromo es una secuencia de caracteres que se lee igual de izquierda a derecha que de derecha a izquierda. Por ejemplo, la función devolverá True si recibe el string \"reconocer\" y False si recibe el string \"python\"."
      ],
      "metadata": {
        "id": "XGigWhvyjbOF"
      }
    },
    {
      "cell_type": "code",
      "source": [
        "def palindromo(string):\n",
        "  string=string.upper()\n",
        "\n",
        "  return string[::-1] == string[:]\n",
        "\n",
        "print(palindromo(\"Amoraroma\"))\n",
        "print(palindromo(\"Gus\"))"
      ],
      "metadata": {
        "colab": {
          "base_uri": "https://localhost:8080/"
        },
        "id": "N8m1-zXQjlDP",
        "outputId": "01864621-f4ca-4db4-e06b-4d370e91ed76"
      },
      "execution_count": null,
      "outputs": [
        {
          "output_type": "stream",
          "name": "stdout",
          "text": [
            "True\n",
            "False\n"
          ]
        }
      ]
    }
  ]
}